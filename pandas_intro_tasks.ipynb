{
  "cells": [
    {
      "cell_type": "markdown",
      "metadata": {
        "id": "view-in-github",
        "colab_type": "text"
      },
      "source": [
        "<a href=\"https://colab.research.google.com/github/banjotobi/ML-Experiments-Notebooks/blob/main/pandas_intro_tasks.ipynb\" target=\"_parent\"><img src=\"https://colab.research.google.com/assets/colab-badge.svg\" alt=\"Open In Colab\"/></a>"
      ]
    },
    {
      "cell_type": "markdown",
      "metadata": {
        "id": "AIZIuTRcKv1g"
      },
      "source": [
        "Import Libraries"
      ]
    },
    {
      "cell_type": "code",
      "execution_count": null,
      "metadata": {
        "id": "xJFAxYP2Kv1j"
      },
      "outputs": [],
      "source": []
    },
    {
      "cell_type": "markdown",
      "metadata": {
        "id": "7JYiNNoJKv1k"
      },
      "source": [
        "1) Import a CSV file into a pandas DataFrame and view the first few rows. You can do this using the pd.read_csv() function."
      ]
    },
    {
      "cell_type": "code",
      "execution_count": null,
      "metadata": {
        "id": "ZGYnvfH9Kv1l"
      },
      "outputs": [],
      "source": []
    },
    {
      "cell_type": "markdown",
      "metadata": {
        "id": "6X4RpUQFKv1l"
      },
      "source": [
        "\n",
        "2) Select specific columns from the DataFrame and view them. You can do this using the df[column_name] notation."
      ]
    },
    {
      "cell_type": "code",
      "execution_count": null,
      "metadata": {
        "id": "tnpKXI8fKv1l"
      },
      "outputs": [],
      "source": []
    },
    {
      "cell_type": "markdown",
      "metadata": {
        "id": "epFmW4x5Kv1l"
      },
      "source": [
        "3) Filter the DataFrame to only include rows that meet certain criteria. You can do this using boolean indexing, such as df[df['column_name'] > 5]."
      ]
    },
    {
      "cell_type": "code",
      "execution_count": null,
      "metadata": {
        "id": "MxkQQsmjKv1m"
      },
      "outputs": [],
      "source": []
    },
    {
      "cell_type": "markdown",
      "metadata": {
        "id": "4T8dI2yBKv1m"
      },
      "source": [
        "4) Sort the DataFrame by one or more columns. You can do this using the df.sort_values() function."
      ]
    },
    {
      "cell_type": "code",
      "execution_count": null,
      "metadata": {
        "id": "JrgXqHZ_Kv1n"
      },
      "outputs": [],
      "source": []
    },
    {
      "cell_type": "markdown",
      "metadata": {
        "id": "45Epdi_RKv1n"
      },
      "source": [
        "\n",
        "5) Add a new column to the DataFrame. You can do this by assigning a new value to a new column name, like df['new_column'] = value.\n"
      ]
    },
    {
      "cell_type": "code",
      "execution_count": null,
      "metadata": {
        "id": "Gq9YouIfKv1n"
      },
      "outputs": [],
      "source": []
    },
    {
      "cell_type": "markdown",
      "metadata": {
        "id": "sHRhujNGKv1o"
      },
      "source": [
        "\n",
        "6) Aggregate the data in the DataFrame by grouping by one or more columns and applying a function to the group. You can do this using the df.groupby() function and the .apply() method.\n"
      ]
    },
    {
      "cell_type": "code",
      "execution_count": null,
      "metadata": {
        "id": "VCwXgdqOKv1o"
      },
      "outputs": [],
      "source": []
    },
    {
      "cell_type": "markdown",
      "metadata": {
        "id": "J2TgbqsLKv1p"
      },
      "source": [
        "\n",
        "7) Merge two DataFrames together using a common column. You can do this using the pd.merge() function."
      ]
    },
    {
      "cell_type": "code",
      "execution_count": null,
      "metadata": {
        "id": "g4P0_Cr2Kv1p"
      },
      "outputs": [],
      "source": []
    },
    {
      "cell_type": "markdown",
      "metadata": {
        "id": "dBL0P5ZFKv1p"
      },
      "source": [
        "8) Replace values in a column of the DataFrame. You can do this using the df.replace() function.\n"
      ]
    },
    {
      "cell_type": "code",
      "execution_count": null,
      "metadata": {
        "id": "0qZ0ydN6Kv1q"
      },
      "outputs": [],
      "source": []
    },
    {
      "cell_type": "markdown",
      "metadata": {
        "id": "k6QcqJ8WKv1q"
      },
      "source": [
        "9) Handle missing values in the DataFrame. You can do this using the df.dropna() function to drop rows with missing values, or the df.fillna() function to fill in missing values with a specified value.\n"
      ]
    },
    {
      "cell_type": "code",
      "execution_count": null,
      "metadata": {
        "id": "6hXoh2e6Kv1r"
      },
      "outputs": [],
      "source": []
    },
    {
      "cell_type": "markdown",
      "metadata": {
        "id": "HwBNhcOXKv1s"
      },
      "source": [
        "10) Save the DataFrame to a CSV file. You can do this using the df.to_csv() function.\n"
      ]
    },
    {
      "cell_type": "code",
      "execution_count": null,
      "metadata": {
        "id": "q7xedakAKv1s"
      },
      "outputs": [],
      "source": [
        "\n"
      ]
    },
    {
      "cell_type": "markdown",
      "metadata": {
        "id": "goXcPJ95Kv1t"
      },
      "source": [
        "11. Get summary statistics of a DataFrame using the df.describe() function."
      ]
    },
    {
      "cell_type": "code",
      "execution_count": null,
      "metadata": {
        "id": "cO1XsWMKKv1t"
      },
      "outputs": [],
      "source": []
    },
    {
      "cell_type": "markdown",
      "metadata": {
        "id": "gJvykGGgKv1t"
      },
      "source": [
        "###    ! pip3 install numpy\n",
        "###   import numpy as np\n"
      ]
    },
    {
      "cell_type": "markdown",
      "metadata": {
        "id": "wlluzKWgKv1u"
      },
      "source": [
        "Convert a DataFrame to a NumPy array using the df.to_numpy() function."
      ]
    },
    {
      "cell_type": "code",
      "execution_count": null,
      "metadata": {
        "id": "aaPVyleMKv1u"
      },
      "outputs": [],
      "source": []
    },
    {
      "cell_type": "markdown",
      "metadata": {
        "id": "AZ16K-qyKv1v"
      },
      "source": [
        "Convert a DataFrame to a pivot table using the df.pivot_table() function."
      ]
    },
    {
      "cell_type": "code",
      "execution_count": null,
      "metadata": {
        "id": "aa1X7vspKv1v"
      },
      "outputs": [],
      "source": []
    },
    {
      "cell_type": "markdown",
      "metadata": {
        "id": "VSfZm6JpKv1v"
      },
      "source": [
        "Reshape a DataFrame using the df.pivot() or df.melt() functions."
      ]
    },
    {
      "cell_type": "code",
      "execution_count": null,
      "metadata": {
        "id": "rzP9wyKGKv1v"
      },
      "outputs": [],
      "source": []
    },
    {
      "cell_type": "markdown",
      "metadata": {
        "id": "Fz_6KpnWKv1v"
      },
      "source": [
        "Convert a DataFrame to a dictionary using the df.to_dict() function."
      ]
    },
    {
      "cell_type": "code",
      "execution_count": null,
      "metadata": {
        "id": "10hkHJskKv1w"
      },
      "outputs": [],
      "source": []
    },
    {
      "cell_type": "markdown",
      "metadata": {
        "id": "juzKFXIWKv1w"
      },
      "source": [
        "Convert a dictionary to a DataFrame using the pd.DataFrame.from_dict() function."
      ]
    },
    {
      "cell_type": "code",
      "execution_count": null,
      "metadata": {
        "id": "zmqfVtNBKv1w"
      },
      "outputs": [],
      "source": []
    },
    {
      "cell_type": "markdown",
      "metadata": {
        "id": "WtTx_75SKv1x"
      },
      "source": [
        "Read in a Excel file as a DataFrame using the pd.read_excel() function."
      ]
    },
    {
      "cell_type": "code",
      "execution_count": null,
      "metadata": {
        "id": "TwhmktYHKv1x"
      },
      "outputs": [],
      "source": []
    },
    {
      "cell_type": "markdown",
      "metadata": {
        "id": "2UF7XucCKv1x"
      },
      "source": [
        "Write a DataFrame to an Excel file using the df.to_excel() function."
      ]
    },
    {
      "cell_type": "code",
      "execution_count": null,
      "metadata": {
        "id": "VXfmQivTKv1x"
      },
      "outputs": [],
      "source": []
    },
    {
      "cell_type": "markdown",
      "metadata": {
        "id": "-S-wltQLKv1x"
      },
      "source": [
        "Split a DataFrame into multiple smaller DataFrames based on a column value using the df.groupby() function."
      ]
    },
    {
      "cell_type": "code",
      "execution_count": null,
      "metadata": {
        "id": "MBCQTnjRKv1y"
      },
      "outputs": [],
      "source": []
    },
    {
      "cell_type": "markdown",
      "metadata": {
        "id": "PhlXi3rdKv1y"
      },
      "source": [
        "Concatenate multiple DataFrames into a single DataFrame using the pd.concat() function."
      ]
    },
    {
      "cell_type": "code",
      "execution_count": null,
      "metadata": {
        "id": "Bx905bTVKv1z"
      },
      "outputs": [],
      "source": []
    },
    {
      "cell_type": "markdown",
      "metadata": {
        "id": "tWNRGeTrKv1z"
      },
      "source": [
        "Select the rows of a DataFrame that have the maximum value for a certain column using the df.idxmax() function."
      ]
    },
    {
      "cell_type": "code",
      "execution_count": null,
      "metadata": {
        "id": "ByTrhDQCKv1z"
      },
      "outputs": [],
      "source": []
    },
    {
      "cell_type": "markdown",
      "metadata": {
        "id": "frj8rkM9Kv10"
      },
      "source": [
        "Select the rows of a DataFrame that have the minimum value for a certain column using the df.idxmin() function."
      ]
    },
    {
      "cell_type": "code",
      "execution_count": null,
      "metadata": {
        "id": "J2vuthKPKv10"
      },
      "outputs": [],
      "source": []
    },
    {
      "cell_type": "markdown",
      "metadata": {
        "id": "-GeK6miaKv10"
      },
      "source": [
        "Select the rows of a DataFrame that have unique values in a certain column using the df.drop_duplicates() function."
      ]
    },
    {
      "cell_type": "code",
      "execution_count": null,
      "metadata": {
        "id": "H5_JSzyhKv10"
      },
      "outputs": [],
      "source": []
    },
    {
      "cell_type": "markdown",
      "metadata": {
        "id": "f5XJtyyzKv10"
      },
      "source": [
        "Create a DataFrame from a list of dictionaries using the pd.DataFrame() function."
      ]
    },
    {
      "cell_type": "code",
      "execution_count": null,
      "metadata": {
        "id": "AdcJAc6lKv11"
      },
      "outputs": [],
      "source": []
    },
    {
      "cell_type": "markdown",
      "metadata": {
        "id": "T7guuInuKv11"
      },
      "source": [
        "Create a DataFrame from a NumPy array using the pd.DataFrame() function."
      ]
    },
    {
      "cell_type": "code",
      "execution_count": null,
      "metadata": {
        "id": "HgzZ-mE6Kv12"
      },
      "outputs": [],
      "source": []
    },
    {
      "cell_type": "markdown",
      "metadata": {
        "id": "OfcbXGkLKv12"
      },
      "source": [
        "Create a DataFrame with a single column of all ones using the pd.DataFrame() function and the np.ones() function."
      ]
    },
    {
      "cell_type": "code",
      "execution_count": null,
      "metadata": {
        "id": "0s8WB2yNKv12"
      },
      "outputs": [],
      "source": []
    },
    {
      "cell_type": "markdown",
      "metadata": {
        "id": "j7UMCQlfKv12"
      },
      "source": [
        "Create a DataFrame with a single column of all zeros using the pd.DataFrame() function and the np.zeros() function."
      ]
    },
    {
      "cell_type": "code",
      "execution_count": null,
      "metadata": {
        "id": "fX-Zcu8aKv13"
      },
      "outputs": [],
      "source": []
    },
    {
      "cell_type": "markdown",
      "metadata": {
        "id": "pkWnfrU8Kv13"
      },
      "source": [
        "Create a DataFrame with a single column of a range of numbers using the pd.DataFrame() function and the np.arange() function."
      ]
    },
    {
      "cell_type": "code",
      "execution_count": null,
      "metadata": {
        "id": "yIV6zQgpKv13"
      },
      "outputs": [],
      "source": []
    },
    {
      "cell_type": "markdown",
      "metadata": {
        "id": "i40D5yX3Kv14"
      },
      "source": [
        "Create a DataFrame with a single column of normally distributed random numbers using the pd.DataFrame() function and the np.random.randn() function."
      ]
    },
    {
      "cell_type": "code",
      "execution_count": null,
      "metadata": {
        "id": "DTDjj1MwKv14"
      },
      "outputs": [],
      "source": []
    },
    {
      "cell_type": "markdown",
      "metadata": {
        "id": "-ASN1EnmKv14"
      },
      "source": [
        "Create a DataFrame with a multi-index using the pd.MultiIndex() function and the df.set_index() function."
      ]
    },
    {
      "cell_type": "code",
      "execution_count": null,
      "metadata": {
        "id": "DZYHoZ4_Kv14"
      },
      "outputs": [],
      "source": []
    },
    {
      "cell_type": "markdown",
      "metadata": {
        "id": "mT4rkPDUKv14"
      },
      "source": [
        "Remove the index of a DataFrame using the df.reset_index() function."
      ]
    },
    {
      "cell_type": "code",
      "execution_count": null,
      "metadata": {
        "id": "WLAPfwQUKv15"
      },
      "outputs": [],
      "source": []
    },
    {
      "cell_type": "markdown",
      "metadata": {
        "id": "4kPKmgr7Kv15"
      },
      "source": [
        "Rename the columns of a DataFrame"
      ]
    },
    {
      "cell_type": "code",
      "execution_count": null,
      "metadata": {
        "id": "mTpoTEe9Kv15"
      },
      "outputs": [],
      "source": []
    },
    {
      "cell_type": "markdown",
      "metadata": {
        "id": "neEivX8eKv15"
      },
      "source": [
        "Plot data from a DataFrame using the df.plot() function."
      ]
    },
    {
      "cell_type": "code",
      "execution_count": null,
      "metadata": {
        "id": "ziVGcpG4Kv15"
      },
      "outputs": [],
      "source": []
    }
  ],
  "metadata": {
    "kernelspec": {
      "display_name": "Python 3",
      "language": "python",
      "name": "python3"
    },
    "language_info": {
      "name": "python",
      "version": "3.9.0"
    },
    "orig_nbformat": 4,
    "vscode": {
      "interpreter": {
        "hash": "f43e569536ad672bb901549590b936816a55e5aa2138f2c0703aa78fe7d4e0e9"
      }
    },
    "colab": {
      "provenance": [],
      "include_colab_link": true
    }
  },
  "nbformat": 4,
  "nbformat_minor": 0
}